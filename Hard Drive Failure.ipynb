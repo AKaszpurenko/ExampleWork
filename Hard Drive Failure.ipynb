{
 "cells": [
  {
   "cell_type": "markdown",
   "metadata": {},
   "source": [
    "# Hard Drive Failure"
   ]
  },
  {
   "cell_type": "markdown",
   "metadata": {},
   "source": [
    "### Objective:"
   ]
  },
  {
   "cell_type": "markdown",
   "metadata": {},
   "source": [
    "Explore hard drive failure data and provide device failure analysis using the Kaplan-Meier model.  "
   ]
  },
  {
   "cell_type": "markdown",
   "metadata": {},
   "source": [
    "### Data:"
   ]
  },
  {
   "cell_type": "markdown",
   "metadata": {},
   "source": [
    "This is data provided by BackBlaze.  They are an online file backup and storage company. They have posted their log files of hard drives.  There are 256 S.M.A.R.T statistics recorded for each drive along with model numbers, makes and datestamps."
   ]
  },
  {
   "cell_type": "markdown",
   "metadata": {},
   "source": [
    "### Data Prep:"
   ]
  },
  {
   "cell_type": "markdown",
   "metadata": {},
   "source": [
    "Because this data is large, 3.5gb for 2 years.  I have ran the first part on my system and uploaded a smaller simpler table of the values that are important for the model.  The below script has taken the 3.5gb and made it a 5.2mb file that can be followed using ipython.  The script will take the S.M.A.R.T. value number 9 which is a count of the numbers it is powered on.\n",
    "\n",
    "First Import Dependencies:"
   ]
  },
  {
   "cell_type": "code",
   "execution_count": 1,
   "metadata": {
    "collapsed": true
   },
   "outputs": [],
   "source": [
    "%matplotlib inline\n",
    "import pandas as pd\n",
    "import numpy as np\n",
    "import matplotlib.pyplot as plt\n",
    "import seaborn as sb\n",
    "import lifelines as sa\n",
    "import glob, os\n",
    "from collections import OrderedDict\n",
    "import patsy as pt"
   ]
  },
  {
   "cell_type": "markdown",
   "metadata": {},
   "source": [
    "## __Do not run, as the files are too large.  In place to show work.__"
   ]
  },
  {
   "cell_type": "code",
   "execution_count": null,
   "metadata": {
    "collapsed": true
   },
   "outputs": [],
   "source": [
    "#DO NOT RUN, files are too large\n",
    "os.chdir(\"C:\\\\Users\\\\Andrew\\\\Downloads\\\\hdd\\\\\")\n",
    "\n",
    "allFiles = glob.glob(\"*.csv\")\n",
    "df = pd.DataFrame()\n",
    "list_ = []\n",
    "for file_ in allFiles:\n",
    "    df = pd.read_csv(file_,index_col=None, header=0, usecols=[0, 1, 2, 3,4, 20])\n",
    "    list_.append(df)\n",
    "df = pd.concat(list_)\n",
    "df.reset_index(inplace=True)\n",
    "\n",
    "os.chdir(\"C:\\\\Users\\\\Andrew\\\\Documents\")\n",
    "\n",
    "df[\"mindate\"] = df[\"date\"].groupby(df[\"serial_number\"]).transform('min')\n",
    "df[\"maxdate\"] = df[\"date\"].groupby(df[\"serial_number\"]).transform('max')\n",
    "df[\"minhours\"] = df[\"smart_9_raw\"].groupby(df[\"serial_number\"]).transform('min')\n",
    "df[\"maxhours\"] = df[\"smart_9_raw\"].groupby(df[\"serial_number\"]).transform('max')\n",
    "df[\"nrec\"] = df[\"date\"].groupby(df[\"serial_number\"]).transform('count')\n",
    "\n",
    "df = df[[\"date\", \"serial_number\",\"model\",\"capacity_bytes\",\"mindate\",\"maxdate\",\n",
    "        \"minhours\", \"maxhours\",\"nrec\",\"failure\"]]\n",
    "\n",
    "df = df.sort_values(\"failure\",ascending=False)\n",
    "df = df.drop_duplicates([\"serial_number\"],keep=\"first\")\n",
    "df.reset_index(inplace=True)\n",
    "\n",
    "#Save off file\n",
    "df.to_csv(\"HDD-log.csv\", index=False)"
   ]
  },
  {
   "cell_type": "markdown",
   "metadata": {},
   "source": [
    "### Clean the Data:"
   ]
  },
  {
   "cell_type": "markdown",
   "metadata": {},
   "source": [
    "The first process is to bring the data in and get a look and feel for it.  "
   ]
  },
  {
   "cell_type": "code",
   "execution_count": 2,
   "metadata": {
    "collapsed": false,
    "scrolled": true
   },
   "outputs": [
    {
     "data": {
      "text/html": [
       "<div>\n",
       "<style>\n",
       "    .dataframe thead tr:only-child th {\n",
       "        text-align: right;\n",
       "    }\n",
       "\n",
       "    .dataframe thead th {\n",
       "        text-align: left;\n",
       "    }\n",
       "\n",
       "    .dataframe tbody tr th {\n",
       "        vertical-align: top;\n",
       "    }\n",
       "</style>\n",
       "<table border=\"1\" class=\"dataframe\">\n",
       "  <thead>\n",
       "    <tr style=\"text-align: right;\">\n",
       "      <th></th>\n",
       "      <th>index</th>\n",
       "      <th>date</th>\n",
       "      <th>serial_number</th>\n",
       "      <th>model</th>\n",
       "      <th>capacity_bytes</th>\n",
       "      <th>mindate</th>\n",
       "      <th>maxdate</th>\n",
       "      <th>minhours</th>\n",
       "      <th>maxhours</th>\n",
       "      <th>nrec</th>\n",
       "      <th>failure</th>\n",
       "    </tr>\n",
       "  </thead>\n",
       "  <tbody>\n",
       "    <tr>\n",
       "      <th>0</th>\n",
       "      <td>14109811</td>\n",
       "      <td>2014-10-02</td>\n",
       "      <td>S1F04ZNE</td>\n",
       "      <td>ST3000DM001</td>\n",
       "      <td>3.000593e+12</td>\n",
       "      <td>2013-04-10</td>\n",
       "      <td>2014-10-07</td>\n",
       "      <td>7993.0</td>\n",
       "      <td>21072.0</td>\n",
       "      <td>490</td>\n",
       "      <td>1.0</td>\n",
       "    </tr>\n",
       "    <tr>\n",
       "      <th>1</th>\n",
       "      <td>3289347</td>\n",
       "      <td>2013-10-24</td>\n",
       "      <td>S1F0BF5S</td>\n",
       "      <td>ST3000DM001</td>\n",
       "      <td>3.000593e+12</td>\n",
       "      <td>2013-04-10</td>\n",
       "      <td>2013-10-24</td>\n",
       "      <td>6545.0</td>\n",
       "      <td>11231.0</td>\n",
       "      <td>142</td>\n",
       "      <td>1.0</td>\n",
       "    </tr>\n",
       "    <tr>\n",
       "      <th>2</th>\n",
       "      <td>9065502</td>\n",
       "      <td>2014-05-12</td>\n",
       "      <td>Z3016NNT</td>\n",
       "      <td>ST4000DM000</td>\n",
       "      <td>4.000787e+12</td>\n",
       "      <td>2014-02-26</td>\n",
       "      <td>2014-05-12</td>\n",
       "      <td>12.0</td>\n",
       "      <td>1783.0</td>\n",
       "      <td>76</td>\n",
       "      <td>1.0</td>\n",
       "    </tr>\n",
       "    <tr>\n",
       "      <th>3</th>\n",
       "      <td>12257298</td>\n",
       "      <td>2014-08-13</td>\n",
       "      <td>S1F030WE</td>\n",
       "      <td>ST3000DM001</td>\n",
       "      <td>3.000593e+12</td>\n",
       "      <td>2013-04-10</td>\n",
       "      <td>2014-09-11</td>\n",
       "      <td>9524.0</td>\n",
       "      <td>21977.0</td>\n",
       "      <td>461</td>\n",
       "      <td>1.0</td>\n",
       "    </tr>\n",
       "    <tr>\n",
       "      <th>4</th>\n",
       "      <td>12709878</td>\n",
       "      <td>2014-08-25</td>\n",
       "      <td>W1F028MX</td>\n",
       "      <td>ST3000DM001</td>\n",
       "      <td>3.000593e+12</td>\n",
       "      <td>2013-04-10</td>\n",
       "      <td>2014-08-25</td>\n",
       "      <td>5194.0</td>\n",
       "      <td>17236.0</td>\n",
       "      <td>446</td>\n",
       "      <td>1.0</td>\n",
       "    </tr>\n",
       "  </tbody>\n",
       "</table>\n",
       "</div>"
      ],
      "text/plain": [
       "      index        date serial_number        model  capacity_bytes  \\\n",
       "0  14109811  2014-10-02      S1F04ZNE  ST3000DM001    3.000593e+12   \n",
       "1   3289347  2013-10-24      S1F0BF5S  ST3000DM001    3.000593e+12   \n",
       "2   9065502  2014-05-12      Z3016NNT  ST4000DM000    4.000787e+12   \n",
       "3  12257298  2014-08-13      S1F030WE  ST3000DM001    3.000593e+12   \n",
       "4  12709878  2014-08-25      W1F028MX  ST3000DM001    3.000593e+12   \n",
       "\n",
       "      mindate     maxdate  minhours  maxhours  nrec  failure  \n",
       "0  2013-04-10  2014-10-07    7993.0   21072.0   490      1.0  \n",
       "1  2013-04-10  2013-10-24    6545.0   11231.0   142      1.0  \n",
       "2  2014-02-26  2014-05-12      12.0    1783.0    76      1.0  \n",
       "3  2013-04-10  2014-09-11    9524.0   21977.0   461      1.0  \n",
       "4  2013-04-10  2014-08-25    5194.0   17236.0   446      1.0  "
      ]
     },
     "execution_count": 2,
     "metadata": {},
     "output_type": "execute_result"
    }
   ],
   "source": [
    "df = pd.read_csv(\"https://raw.githubusercontent.com/AKaszpurenko/ExampleWork/master/HDD-log.csv\")\n",
    "df.head()\n"
   ]
  },
  {
   "cell_type": "markdown",
   "metadata": {},
   "source": [
    "Each row reperesents one unique hard drive and the information we have about it and what it's past history was.\n",
    "\n",
    "The columns are as follows:\n",
    "* index = a unique row number\n",
    "* date = date\n",
    "* serial_number = Serial number of the hard drive\n",
    "* model = Model of hard drive\n",
    "* cabacity_bytes = this is capacity in bytes\n",
    "* minmdate = the earliest date we have records of this hard drive\n",
    "* maxdate = the latest date we have records of this hard drive\n",
    "* minhours = the shortest amount of hours we have on record for this drive (S.M.A.R.T. valeu #9)\n",
    "* maxhours = the max amount of hours we have on record for this drive (S.M.A.R.T. valeu #9)\n",
    "* nrec = number of records\n",
    "* failure = 1 => Failed, 0 => Still working\n",
    "\n",
    "Note that the raw data that was used to compute these logs was from 1-1-13 to 12-31-14 (2 years), so some drives started up before this and lasted well past the 2 year cut off we have of this data."
   ]
  },
  {
   "cell_type": "code",
   "execution_count": 3,
   "metadata": {
    "collapsed": false
   },
   "outputs": [
    {
     "data": {
      "text/plain": [
       "0.0    46177\n",
       "1.0     2930\n",
       "Name: failure, dtype: int64"
      ]
     },
     "execution_count": 3,
     "metadata": {},
     "output_type": "execute_result"
    }
   ],
   "source": [
    "#check for anything odd with failed\n",
    "df[\"failure\"].value_counts()"
   ]
  },
  {
   "cell_type": "code",
   "execution_count": 4,
   "metadata": {
    "collapsed": false,
    "scrolled": true
   },
   "outputs": [
    {
     "data": {
      "text/plain": [
       "4.000787e+12    26250\n",
       "3.000593e+12    12394\n",
       "2.000399e+12     5259\n",
       "1.500302e+12     3106\n",
       "1.000205e+12      728\n",
       "5.001079e+11      392\n",
       "6.001175e+12      317\n",
       "1.600419e+11      252\n",
       "3.200729e+11      146\n",
       "8.002636e+10      131\n",
       "2.500594e+11      127\n",
       "6.003326e+17        2\n",
       "1.194001e+12        1\n",
       "2.500000e+11        1\n",
       "1.073493e+17        1\n",
       "Name: capacity_bytes, dtype: int64"
      ]
     },
     "execution_count": 4,
     "metadata": {},
     "output_type": "execute_result"
    }
   ],
   "source": [
    "#check for any hard drive that is just too small\n",
    "df[\"capacity_bytes\"].value_counts()\n",
    "\n"
   ]
  },
  {
   "cell_type": "markdown",
   "metadata": {},
   "source": [
    "We can see there are a few hard drives that are extremely large in size, 600TB and 250TB respectively, but again the sample size is too small to be meaningful.  So we will drop those that are too small and those that are too big.  Also we will make the Capacity number easier to read."
   ]
  },
  {
   "cell_type": "code",
   "execution_count": 5,
   "metadata": {
    "collapsed": false
   },
   "outputs": [
    {
     "data": {
      "text/plain": [
       "capacity\n",
       "2.0     5259\n",
       "3.0    12394\n",
       "4.0    26250\n",
       "6.0      317\n",
       "dtype: int64"
      ]
     },
     "execution_count": 5,
     "metadata": {},
     "output_type": "execute_result"
    }
   ],
   "source": [
    "#adjust to TB size and also round\n",
    "df[\"capacity\"] = df[\"capacity_bytes\"].apply(lambda x: (round(x/1000000000000,2)))\n",
    "\n",
    "#drop hdd that are too small of records or too large\n",
    "df = df.loc[(df['capacity']<6.5) & (df['capacity']>1.5)]\n",
    "df.groupby([\"capacity\"]).size()"
   ]
  },
  {
   "cell_type": "code",
   "execution_count": 6,
   "metadata": {
    "collapsed": false
   },
   "outputs": [
    {
     "data": {
      "text/plain": [
       "make          model          \n",
       "HGST          HDS5C4040ALE630        6\n",
       "              HDS724040ALE640       42\n",
       "              HMS5C4040ALE640     7166\n",
       "              HMS5C4040BLE640     3115\n",
       "Hitachi       HDS5C3030ALA630     4651\n",
       "              HDS5C3030BLE630        1\n",
       "              HDS5C4040ALE630     2719\n",
       "              HDS722020ALA330     4774\n",
       "              HDS723020BLA642       11\n",
       "              HDS723030ALA640     1046\n",
       "              HDS723030BLE640       10\n",
       "              HDS724040ALE640        1\n",
       "ST2000DL001   ST2000DL001           12\n",
       "ST2000DL003   ST2000DL003           16\n",
       "ST2000DM001   ST2000DM001            8\n",
       "ST2000VN000   ST2000VN000            5\n",
       "ST3000DM001   ST3000DM001         4703\n",
       "ST32000542AS  ST32000542AS         385\n",
       "ST320005XXXX  ST320005XXXX          17\n",
       "ST33000651AS  ST33000651AS         351\n",
       "ST4000DM000   ST4000DM000        12976\n",
       "ST4000DX000   ST4000DX000          180\n",
       "ST6000DX000   ST6000DX000           45\n",
       "TOSHIBA       DT01ACA300            60\n",
       "WDC           WD20EFRX              31\n",
       "              WD30EFRX            1054\n",
       "              WD30EZRS              18\n",
       "              WD30EZRX             500\n",
       "              WD40EFRX              45\n",
       "              WD60EFRX             272\n",
       "dtype: int64"
      ]
     },
     "execution_count": 6,
     "metadata": {},
     "output_type": "execute_result"
    }
   ],
   "source": [
    "#Create the make/model of the drives\n",
    "df[\"make\"] = df[\"model\"].apply(lambda x:x.split()[0])\n",
    "df[\"model\"] = df[\"model\"].apply(lambda x: x.split()[1] if len(x.split())>1\n",
    "else x)\n",
    "df.groupby([\"make\",\"model\"]).size()\n",
    "\n"
   ]
  },
  {
   "cell_type": "code",
   "execution_count": 7,
   "metadata": {
    "collapsed": false
   },
   "outputs": [
    {
     "data": {
      "text/plain": [
       "<matplotlib.axes._subplots.AxesSubplot at 0x21a4e6a7ac8>"
      ]
     },
     "execution_count": 7,
     "metadata": {},
     "output_type": "execute_result"
    },
    {
     "data": {
      "image/png": "[encoded data removed]",
      "text/plain": [
       "<matplotlib.figure.Figure at 0x21a4e6a8320>"
      ]
     },
     "metadata": {},
     "output_type": "display_data"
    }
   ],
   "source": [
    "#Create the Seagate make and Hitachi\n",
    "df[\"make\"] = df[\"make\"].apply(lambda x:\"Seagate\" if x[:2]== \"ST\" else x)\n",
    "df.loc[df[\"make\"] == \"HGST\",\"make\"] = \"Hitachi\"\n",
    "\n",
    "#Visual inspection of the data\n",
    "gp = df.groupby([\"make\",\"capacity\"]).size().unstack()\n",
    "sb.heatmap(gp, mask=pd.isnull(gp), robust=True, square=True,cbar=False)"
   ]
  },
  {
   "cell_type": "markdown",
   "metadata": {},
   "source": [
    "Toshiba has very little presence.  We will take this out of the data as the sample size is too small.  We are now able visualize how much the 4TB and under is making up this data.  "
   ]
  },
  {
   "cell_type": "code",
   "execution_count": 8,
   "metadata": {
    "collapsed": false,
    "scrolled": false
   },
   "outputs": [
    {
     "data": {
      "text/plain": [
       "<matplotlib.axes._subplots.AxesSubplot at 0x21a50140ac8>"
      ]
     },
     "execution_count": 8,
     "metadata": {},
     "output_type": "execute_result"
    },
    {
     "data": {
      "image/png": "[encoded data removed]",
      "text/plain": [
       "<matplotlib.figure.Figure at 0x21a4e0bcc18>"
      ]
     },
     "metadata": {},
     "output_type": "display_data"
    }
   ],
   "source": [
    "#Shrink to just Hitachi, Seagate, WD\n",
    "df = df.loc[df[\"make\"].isin([\"Hitachi\", \"Seagate\", \"WDC\"])]\n",
    "\n",
    "#visual inspection of date start and ending\n",
    "df[\"mindate\"] = pd.to_datetime(df[\"mindate\"])\n",
    "df[\"maxdate\"] = pd.to_datetime(df[\"maxdate\"])\n",
    "df['mindateym'] = df['mindate'].apply(lambda x: x.strftime('%Y%m'))\n",
    "df['maxdateym'] = df['maxdate'].apply(lambda x: x.strftime('%Y%m'))\n",
    "\n",
    "#Grouping by Make and Capacity\n",
    "gp = df.groupby([\"make\",\"capacity\"]).size().unstack()\n",
    "gp[pd.isnull(gp)]=0\n",
    "fig, axes = plt.subplots(nrows=1, ncols=1, figsize=(10,4)\n",
    "                         , squeeze=False, sharex=True, sharey=True)\n",
    "sb.heatmap(gp, annot=True, fmt='.0f', ax=axes[0,0])\n",
    "\n"
   ]
  },
  {
   "cell_type": "code",
   "execution_count": 9,
   "metadata": {
    "collapsed": false
   },
   "outputs": [
    {
     "data": {
      "text/html": [
       "<div>\n",
       "<style>\n",
       "    .dataframe thead tr:only-child th {\n",
       "        text-align: right;\n",
       "    }\n",
       "\n",
       "    .dataframe thead th {\n",
       "        text-align: left;\n",
       "    }\n",
       "\n",
       "    .dataframe tbody tr th {\n",
       "        vertical-align: top;\n",
       "    }\n",
       "</style>\n",
       "<table border=\"1\" class=\"dataframe\">\n",
       "  <thead>\n",
       "    <tr style=\"text-align: right;\">\n",
       "      <th>failure</th>\n",
       "      <th>make</th>\n",
       "      <th>capacity</th>\n",
       "      <th>active</th>\n",
       "      <th>failure</th>\n",
       "      <th>proportion</th>\n",
       "    </tr>\n",
       "  </thead>\n",
       "  <tbody>\n",
       "    <tr>\n",
       "      <th>0</th>\n",
       "      <td>Hitachi</td>\n",
       "      <td>2.0</td>\n",
       "      <td>4705.0</td>\n",
       "      <td>80.0</td>\n",
       "      <td>0.016719</td>\n",
       "    </tr>\n",
       "    <tr>\n",
       "      <th>1</th>\n",
       "      <td>Hitachi</td>\n",
       "      <td>3.0</td>\n",
       "      <td>5626.0</td>\n",
       "      <td>82.0</td>\n",
       "      <td>0.014366</td>\n",
       "    </tr>\n",
       "    <tr>\n",
       "      <th>2</th>\n",
       "      <td>Hitachi</td>\n",
       "      <td>4.0</td>\n",
       "      <td>12959.0</td>\n",
       "      <td>90.0</td>\n",
       "      <td>0.006897</td>\n",
       "    </tr>\n",
       "    <tr>\n",
       "      <th>3</th>\n",
       "      <td>Seagate</td>\n",
       "      <td>2.0</td>\n",
       "      <td>391.0</td>\n",
       "      <td>52.0</td>\n",
       "      <td>0.117381</td>\n",
       "    </tr>\n",
       "    <tr>\n",
       "      <th>4</th>\n",
       "      <td>Seagate</td>\n",
       "      <td>3.0</td>\n",
       "      <td>3426.0</td>\n",
       "      <td>1628.0</td>\n",
       "      <td>0.322121</td>\n",
       "    </tr>\n",
       "    <tr>\n",
       "      <th>5</th>\n",
       "      <td>Seagate</td>\n",
       "      <td>4.0</td>\n",
       "      <td>12869.0</td>\n",
       "      <td>287.0</td>\n",
       "      <td>0.021815</td>\n",
       "    </tr>\n",
       "    <tr>\n",
       "      <th>6</th>\n",
       "      <td>Seagate</td>\n",
       "      <td>6.0</td>\n",
       "      <td>45.0</td>\n",
       "      <td>NaN</td>\n",
       "      <td>NaN</td>\n",
       "    </tr>\n",
       "    <tr>\n",
       "      <th>7</th>\n",
       "      <td>WDC</td>\n",
       "      <td>2.0</td>\n",
       "      <td>29.0</td>\n",
       "      <td>2.0</td>\n",
       "      <td>0.064516</td>\n",
       "    </tr>\n",
       "    <tr>\n",
       "      <th>8</th>\n",
       "      <td>WDC</td>\n",
       "      <td>3.0</td>\n",
       "      <td>1500.0</td>\n",
       "      <td>72.0</td>\n",
       "      <td>0.045802</td>\n",
       "    </tr>\n",
       "    <tr>\n",
       "      <th>9</th>\n",
       "      <td>WDC</td>\n",
       "      <td>4.0</td>\n",
       "      <td>45.0</td>\n",
       "      <td>NaN</td>\n",
       "      <td>NaN</td>\n",
       "    </tr>\n",
       "    <tr>\n",
       "      <th>10</th>\n",
       "      <td>WDC</td>\n",
       "      <td>6.0</td>\n",
       "      <td>271.0</td>\n",
       "      <td>1.0</td>\n",
       "      <td>0.003676</td>\n",
       "    </tr>\n",
       "  </tbody>\n",
       "</table>\n",
       "</div>"
      ],
      "text/plain": [
       "failure     make  capacity   active  failure  proportion\n",
       "0        Hitachi       2.0   4705.0     80.0    0.016719\n",
       "1        Hitachi       3.0   5626.0     82.0    0.014366\n",
       "2        Hitachi       4.0  12959.0     90.0    0.006897\n",
       "3        Seagate       2.0    391.0     52.0    0.117381\n",
       "4        Seagate       3.0   3426.0   1628.0    0.322121\n",
       "5        Seagate       4.0  12869.0    287.0    0.021815\n",
       "6        Seagate       6.0     45.0      NaN         NaN\n",
       "7            WDC       2.0     29.0      2.0    0.064516\n",
       "8            WDC       3.0   1500.0     72.0    0.045802\n",
       "9            WDC       4.0     45.0      NaN         NaN\n",
       "10           WDC       6.0    271.0      1.0    0.003676"
      ]
     },
     "execution_count": 9,
     "metadata": {},
     "output_type": "execute_result"
    }
   ],
   "source": [
    "gp = df.groupby([\"make\",\"capacity\",\"failure\"]).size().unstack()\n",
    "gp[\"proportion\"] = gp[1]/ gp.sum(axis=1)\n",
    "gp.rename(columns={0:\"active\", 1:\"failure\"}, inplace=True)\n",
    "gp.reset_index(inplace=True)\n",
    "gp.head(20)"
   ]
  },
  {
   "cell_type": "markdown",
   "metadata": {},
   "source": [
    "This is now a clean data set with Clean data set, now to use two different models on the dataset.  With even this basic look we can see that the Seagates are failing at a higher rate than the other makers.  What we can't say until we run the Kaplan-Meier Model is:  \n",
    "* Are the Seagate drives failing faster due to them being in service longer?\n",
    "* Do the Seagates appear to start failing after a certain point in time or is it a gradual failure?"
   ]
  },
  {
   "cell_type": "markdown",
   "metadata": {},
   "source": [
    "# Kaplan-Meier Model"
   ]
  },
  {
   "cell_type": "markdown",
   "metadata": {},
   "source": [
    "The Kaplan-Meier model gives a maxium-likelihood estimate of survival function.\n",
    "\\begin{equation}\n",
    "\\hat S(t) = \\prod\\limits_{t_i \\\\< t} \\frac{n_i - d_i}{n_i}\n",
    "\\end{equation}\n",
    "\n",
    "* d = death/failure\n",
    "* n = number of participants\n",
    "* t = time\n",
    "* i = specific interval\n",
    "\n",
    "This is a cummulative product and gives a non-increasing curve where at anytime step, we can estimate the probability of survival from the start."
   ]
  },
  {
   "cell_type": "markdown",
   "metadata": {},
   "source": [
    "First step is to define the Kaplan function and charting function:"
   ]
  },
  {
   "cell_type": "code",
   "execution_count": 10,
   "metadata": {
    "collapsed": true
   },
   "outputs": [],
   "source": [
    "#Kaplan Meier Model\n",
    "def  estimate_cond_mean(S):\n",
    "    \"\"\"Quick est of conditional mean lifetime\"\"\"\n",
    "    fstar = -S.diff() / (1-S.iloc[-1.0])\n",
    "    Sstar = (S-S.iloc[-1,0]) / (1-S.iloc[-1,0])\n",
    "    llstarr = fstar/ Sstar\n",
    "\n",
    "    llstar[pd.isnull(llstar)] = 0\n",
    "    llstar = llstar[np.isfinite(llstar)]\n",
    "    llstarcs = llstar.cumsum().reset_index()\n",
    "    llstarcs[\"timelinediff\"] = np.append(llstarcs[\"timeline\"].diff().value[1:],0)\n",
    "    llstarcs[\"auc\"] = llstarcs[\"timelinediff\"]*llstarcs[\"KM_estimate\"]\n",
    "    return np.nansum(llstarcs[\"auc\"]).round()\n",
    "\n",
    "#Generic plotting\n",
    "def plot_km(km, axes, suptxt='', subtxt='', i=0, j=0, arws=[], xmax=0, smlfs=10):\n",
    "\n",
    "    ax = km.plot(ax=axes[i,j], title=subtxt, legend=False)\n",
    "    plt.suptitle(suptxt, fontsize=14)\n",
    "    axes[i,j].axhline(0.5, ls='--', lw=0.5)\n",
    "    axes[i,j].annotate('half-life', fontsize=smlfs, color='b'\n",
    "            ,xy=(0,0.5), xycoords='axes fraction'\n",
    "            ,xytext=(10,4), textcoords='offset points')\n",
    "\n",
    "    S = km.survival_function_\n",
    "    hl = S.loc[S['KM_estimate']<0.5,'KM_estimate'].head(1)\n",
    "    if len(hl) == 1:\n",
    "        axes[i,j].annotate('{:.0f}'.format(hl.index[0]), fontsize=smlfs\n",
    "            ,xy=(0,0.5), xycoords='axes fraction'\n",
    "            ,xytext=(10,-12), textcoords='offset points', color='b')\n",
    "\n",
    "    for pt in arws:\n",
    "        tml = km.survival_function_[:pt].tail(1)\n",
    "        plt.annotate('{:.1%}\\n@ {:.0f}hrs'.format(tml['KM_estimate'].values[0],tml.index.values[0])\n",
    "                ,xy=(tml.index.values,tml['KM_estimate'].values), xycoords='data'\n",
    "                ,xytext=(6,-50), textcoords='offset points', color='#007777', fontsize=smlfs\n",
    "                ,arrowprops={'facecolor':'#007777', 'width':2})\n",
    "\n",
    "    ax.set_ylim([0,1])\n",
    "    ax.set_xlim([0,xmax])\n",
    "\n",
    "\n"
   ]
  },
  {
   "cell_type": "markdown",
   "metadata": {},
   "source": [
    "###  All hard drives Failure chart"
   ]
  },
  {
   "cell_type": "markdown",
   "metadata": {},
   "source": [
    "First step is to see how all the hard drives in aggregate."
   ]
  },
  {
   "cell_type": "code",
   "execution_count": 11,
   "metadata": {
    "collapsed": false,
    "scrolled": false
   },
   "outputs": [
    {
     "data": {
      "image/png": "[encoded data removed]",
      "text/plain": [
       "<matplotlib.figure.Figure at 0x21a4e103630>"
      ]
     },
     "metadata": {},
     "output_type": "display_data"
    }
   ],
   "source": [
    "#All hard drives Failure rate\n",
    "fig, axes = plt.subplots(nrows=1, ncols=1\n",
    "                         ,squeeze=False, sharex=True, sharey=True)\n",
    "km = sa.KaplanMeierFitter()\n",
    "km.fit(durations=df['maxhours'], event_observed=df['failure'])\n",
    "plot_km(km, axes, xmax=df.shape[0], arws=[8760, 43830]\n",
    "        ,suptxt='Kaplan Meier fit for all hardrives', smlfs=12)"
   ]
  },
  {
   "cell_type": "markdown",
   "metadata": {},
   "source": [
    "We can see that at 1 year (8758 hours), 98.7% of the drives are working.  But at 4.5 years, only 84.1% are still working. Clearly the rapid drop approaching year 2 is indication that something else might be at works.  Next step is to dive in and look at the drives and manufactors and how they influence the survival rate."
   ]
  },
  {
   "cell_type": "markdown",
   "metadata": {},
   "source": [
    "### Failure by Make"
   ]
  },
  {
   "cell_type": "code",
   "execution_count": 12,
   "metadata": {
    "collapsed": false,
    "scrolled": true
   },
   "outputs": [
    {
     "data": {
      "image/png": "[encoded data removed]",
      "text/plain": [
       "<matplotlib.figure.Figure at 0x21a4e281978>"
      ]
     },
     "metadata": {},
     "output_type": "display_data"
    }
   ],
   "source": [
    "#Lifetime by Make\n",
    "fig,axes = plt.subplots(nrows=1, ncols=len(df[\"make\"].value_counts()),\n",
    "                         squeeze=False, sharex=True, sharey=True)\n",
    "for j, mfr in enumerate(np.unique(df[\"make\"])):\n",
    "    dfsub = df.loc[df[\"make\"]==mfr]\n",
    "    km = sa.KaplanMeierFitter()\n",
    "    km.fit(durations=dfsub[\"maxhours\"], event_observed=dfsub[\"failure\"])\n",
    "    plot_km(km, axes, j=j, subtxt=mfr, xmax=df.shape[0])\n",
    "\n",
    "\n"
   ]
  },
  {
   "cell_type": "markdown",
   "metadata": {},
   "source": [
    "This confirms the observation earlier with the table of manufactors that Seagate drives are failing above the norm.  We don't know if this is one particular model or all Seagates have this problem.  But this clearly indicates that Seagate drives are having a problem."
   ]
  },
  {
   "cell_type": "markdown",
   "metadata": {},
   "source": [
    "### Failure by Make and Capacity"
   ]
  },
  {
   "cell_type": "code",
   "execution_count": 13,
   "metadata": {
    "collapsed": false,
    "scrolled": false
   },
   "outputs": [
    {
     "data": {
      "image/png": "[encoded data removed]",
      "text/plain": [
       "<matplotlib.figure.Figure at 0x21a4e147470>"
      ]
     },
     "metadata": {},
     "output_type": "display_data"
    }
   ],
   "source": [
    "fig, axes = plt.subplots(nrows=len(df['make'].value_counts())\n",
    "                         ,ncols=len(df['capacity'].value_counts())\n",
    "                         ,squeeze=False, sharex=True, sharey=True, figsize=(10,10))\n",
    "\n",
    "for i, mfr in enumerate(np.unique(df['make'])):\n",
    "    for j, cap in enumerate(np.unique(df['capacity'])):\n",
    "        dfsub = df.loc[(df['make']==mfr) & (df['capacity']==cap)]\n",
    "        if dfsub.shape[0]!=0:\n",
    "            km = sa.KaplanMeierFitter()\n",
    "            km.fit(durations=dfsub['maxhours'], event_observed=dfsub['failure'])\n",
    "            plot_km(km, axes, i=i, j=j, subtxt='{} {}'.format(mfr, cap), xmax=df.shape[0])\n",
    "            axes[i,j].annotate('Tot: {}'.format(dfsub.shape[0]), xy=(0.5,0.1), xycoords='axes fraction')\n",
    "        else:\n",
    "            axes[i,j].axis('off')"
   ]
  },
  {
   "cell_type": "markdown",
   "metadata": {},
   "source": [
    "This is probably the most illuminating chart.  We can see clearly that something is wrong with the 2 & 3 Seagate TB hard drives.  After about 2.5 years, half of the Seagate 3.0 TB have failed. WD & Hitatchi seem to both have few failures.  We can also see that the WD 2TB,4TB,6TB drives we don't have a long burn out of time with to help us see if this problem might also be affecting them.  "
   ]
  },
  {
   "cell_type": "markdown",
   "metadata": {},
   "source": [
    "### Examination of 3TB capacity by make"
   ]
  },
  {
   "cell_type": "markdown",
   "metadata": {},
   "source": [
    "Taking the 3TB hard drives and over laying the survival functions we can see how pronounced this problem is."
   ]
  },
  {
   "cell_type": "code",
   "execution_count": 14,
   "metadata": {
    "collapsed": false,
    "scrolled": true
   },
   "outputs": [
    {
     "data": {
      "image/png": "[encoded data removed]",
      "text/plain": [
       "<matplotlib.figure.Figure at 0x21a4f995198>"
      ]
     },
     "metadata": {},
     "output_type": "display_data"
    }
   ],
   "source": [
    "#Just looking at 3TB harddrives by make\n",
    "dd = OrderedDict()\n",
    "fig, axes = plt.subplots(nrows=1, ncols=1, squeeze=False, sharex=True, sharey=True)\n",
    "\n",
    "for j, mfr in enumerate(np.unique(df[\"make\"])):\n",
    "    dd[mfr]= {8760:\"\",17520:\"\",26280:\"\"}\n",
    "    dfsub = df.loc[(df[\"make\"]==mfr) & (df[\"capacity\"]==3.0)]\n",
    "    km = sa.KaplanMeierFitter()\n",
    "    km.fit(durations=dfsub[\"maxhours\"], event_observed=dfsub[\"failure\"])\n",
    "    ax = km.plot(ax=axes[0,0], legend=False)\n",
    "    axes[0,0].axhline(0.5, ls='--', lw=0.5)\n",
    "    axes[0,0].annotate('half-life', xy=(0,0.5), xycoords='axes fraction'\n",
    "                ,xytext=(10,4), textcoords='offset points', color='b', fontsize=10)\n",
    "    ax.set_ylim([0,1])\n",
    "    ax.set_xlim([0,df.shape[0]])\n",
    "    fnlS = km.survival_function_.iloc[-1:, :]\n",
    "    axes[0,0].annotate('{}'.format(mfr), xy=(fnlS.index.values[0],fnlS.values[0][0])\n",
    "                       ,xycoords='data', fontsize=12\n",
    "                       ,xytext=(10,0), textcoords='offset points')\n"
   ]
  },
  {
   "cell_type": "markdown",
   "metadata": {},
   "source": [
    "### Kaplin-Meier Observations:"
   ]
  },
  {
   "cell_type": "markdown",
   "metadata": {},
   "source": [
    "As we can see with this simple model we can see after how many hours we expect drives to fail.  This also illustrated that we can not just look at manufactor or size but need to examine both as a whole.  \n",
    "\n",
    "* In the first year (8760 hours), WDC hard drives fail more (in the 3TB and overall charts).  \n",
    "* After 22k hours (2.6yrs), 50% of Seagate 3 TB hard drives we would expect to fail. \n",
    "* Compare this with 98% of Hitachi 3TB drives still working after 2.6yrs.\n",
    "* Western Digitial drives fail quick then start failing at a slow gradual rate and start ramping up the failure (in the 3TB and overall charts)."
   ]
  },
  {
   "cell_type": "code",
   "execution_count": null,
   "metadata": {
    "collapsed": true
   },
   "outputs": [],
   "source": []
  }
 ],
 "metadata": {
  "kernelspec": {
   "display_name": "Python 3",
   "language": "python",
   "name": "python3"
  },
  "language_info": {
   "codemirror_mode": {
    "name": "ipython",
    "version": 3
   },
   "file_extension": ".py",
   "mimetype": "text/x-python",
   "name": "python",
   "nbconvert_exporter": "python",
   "pygments_lexer": "ipython3",
   "version": "3.6.2"
  }
 },
 "nbformat": 4,
 "nbformat_minor": 2
}
